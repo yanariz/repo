{
 "cells": [
  {
   "cell_type": "markdown",
   "metadata": {},
   "source": [
    "## CoffeePython POS Terminal"
   ]
  },
  {
   "cell_type": "markdown",
   "metadata": {},
   "source": [
    "CoffeePython is a new specialty coffee place along Katipunan. It commissioned students to build a crude character-mode terminal based on Python.\n",
    "\n",
    "It has the following products:\n",
    "\n",
    "\n",
    "| Code          | Product Name  |  Price |\n",
    "|---------------|---------------|--------|\n",
    "| brewedcoffee  | Brewed Coffee | 120.00 |\n",
    "| espresso      | Espresso      | 140.00 |\n",
    "| americano     | Americano     | 150.00 |\n",
    "| capuccino     | Capuccino     | 170.00 |\n"
   ]
  },
  {
   "cell_type": "markdown",
   "metadata": {},
   "source": [
    "A Python dictionary containing the product information has already been created by someone else:\n",
    "    "
   ]
  },
  {
   "cell_type": "code",
   "execution_count": 9,
   "metadata": {},
   "outputs": [],
   "source": [
    "products = {\n",
    "    \"brewedcoffee\":{\"name\":\"Brewed Coffee\",\"price\":120.00},\n",
    "    \"espresso\":{\"name\":\"Espresso\",\"price\":140.00},\n",
    "    \"americano\":{\"name\":\"Americano\",\"price\":150.00},\n",
    "    \"capuccino\":{\"name\":\"Capuccino\",\"price\":170.00},\n",
    "}"
   ]
  },
  {
   "cell_type": "markdown",
   "metadata": {},
   "source": [
    "### 1. product information lookup function (3 points)\n",
    "\n",
    "Write a function ```get_product(code)``` where code is the key of the product information in the products dictionary. The function should return the dictionary containing the specific product information.\n",
    "For example:\n",
    "\n",
    "\n",
    "**```get_product(\"espresso\")```**\n",
    "\n",
    "should yield\n",
    "\n",
    "**```{\"name\":\"Espresso\",\"price\":140.00}```**\n"
   ]
  },
  {
   "cell_type": "code",
   "execution_count": 10,
   "metadata": {},
   "outputs": [
    {
     "data": {
      "text/plain": [
       "{'name': 'Espresso', 'price': 140.0}"
      ]
     },
     "execution_count": 10,
     "metadata": {},
     "output_type": "execute_result"
    }
   ],
   "source": [
    "def get_product(code):\n",
    "    return products[code]\n",
    "    \n",
    "get_product(\"espresso\")"
   ]
  },
  {
   "cell_type": "markdown",
   "metadata": {},
   "source": [
    "### 2. retrieve product attributes (2 points)\n",
    "a. Write one line of code that calls ```get_product(code)``` and returns the price of that product.\n"
   ]
  },
  {
   "cell_type": "code",
   "execution_count": 11,
   "metadata": {},
   "outputs": [
    {
     "data": {
      "text/plain": [
       "140.0"
      ]
     },
     "execution_count": 11,
     "metadata": {},
     "output_type": "execute_result"
    }
   ],
   "source": [
    "get_product(\"espresso\")[\"price\"]"
   ]
  },
  {
   "cell_type": "markdown",
   "metadata": {},
   "source": [
    "b. Write one line of code that calls ```get_product(code)``` and returns the name of that product."
   ]
  },
  {
   "cell_type": "code",
   "execution_count": 12,
   "metadata": {},
   "outputs": [
    {
     "data": {
      "text/plain": [
       "'Espresso'"
      ]
     },
     "execution_count": 12,
     "metadata": {},
     "output_type": "execute_result"
    }
   ],
   "source": [
    "get_product(\"espresso\")[\"name\"]"
   ]
  },
  {
   "cell_type": "markdown",
   "metadata": {},
   "source": [
    "### 2. Point-of-Sale Terminal  (5 points)\n",
    "\n",
    "Write a function ```main``` that asks for orders of food from a customer. The system should ask for the following:\n",
    "* Product Code (assume that the clerk has memorized the product codes)\n",
    "* Quantity\n",
    "\n",
    "The system then must update an electronic **food tray** (which is just a fancy term for a list of items ordered). Implement the food tray as a list of ordered items, each of which is a *dictionary* containing the following key-value pairs: \n",
    "\n",
    "* product_code, \n",
    "* quantity\n",
    "* subtotal *(which is just the quantity multiplied by the price of the product)*\n",
    "\n",
    "Design your program such that **food_tray** is a variable of the **main** function for now. We will deal with better software design later on. In any case, if any of your functions need to work on the food_tray, pass it as a parameter.\n",
    "\n",
    "The system must compute the subtotal before appending to the food tray.\n",
    "\n",
    "The system must be able to determine if the customer is done with his/her order. Once done, the system notifies the clerk/user of the grand total. \n",
    "\n",
    "The system then prints out the receipt (for now, just show it appear in the notebook), after which it is ready to process the next customer order. Make sure to clear out the food_tray after each successful order.\n",
    "\n",
    "**Bonus (2 points):**\n",
    "Format the receipt output using various print formatting options. You will have to do research on this.\n",
    "\n",
    "**Bonus (2 points):**\n",
    "If the cashier enters an invalid product code, handle the errors gracefully. For one, the system should not bomb out while processing something invalid; rather, it should tell the cashier that he/she entered an invalid product code and to try again.\n",
    "Note that you will have to do research on Error and Exception handling."
   ]
  },
  {
   "cell_type": "code",
   "execution_count": 37,
   "metadata": {},
   "outputs": [],
   "source": [
    "def add_to_tray(food_tray, ordered_item):\n",
    "    food_tray.append(ordered_item)"
   ]
  },
  {
   "cell_type": "code",
   "execution_count": 36,
   "metadata": {},
   "outputs": [],
   "source": [
    "def generate_receipt(food_tray):\n",
    "    print(\"{:^46}\".format(\"CoffeePython Receipt\"))\n",
    "    print(\"{:<12}  |     {:>8}   |  {:>12}\".format(\"Product\",\"Quantity\",\"Subtotal\"))\n",
    "\n",
    "    for item in food_tray:\n",
    "        item_code = item['code']\n",
    "        item_name = products[item_code][\"name\"]\n",
    "        item_qty = item['qty']\n",
    "        item_subtot = item['subtotal']\n",
    "        print(\"{:<12} {:>12} {:>18}\".format(item_name, item_qty, item_subtot))"
   ]
  },
  {
   "cell_type": "markdown",
   "metadata": {},
   "source": [
    "Hint: The ordered_item dictionary inside main() has at least three keys: code, qty, and subtotal. You know how to get code and qty as these come from variables storing entered values from input(\"...\"). To compute subtotal you need to get the price of the product (using code) somewhere. Your answer in 2a. will help you.\n",
    "\n",
    "This new ordered_item dictionary will then need to be added to the food_tray list in a later step. We can add dictionaries to lists, right? Call the function add_to_tray(food_tray, ordered_item) to do this.\n",
    "\n",
    "The variable food_tray is a list of dictionaries. The ordered_item variable is a dictionary."
   ]
  },
  {
   "cell_type": "code",
   "execution_count": 43,
   "metadata": {},
   "outputs": [],
   "source": [
    "def main():\n",
    "    products = {\n",
    "        \"brewedcoffee\":{\"name\":\"Brewed Coffee\",\"price\":120.00},\n",
    "        \"espresso\":{\"name\":\"Espresso\",\"price\":140.00},\n",
    "        \"americano\":{\"name\":\"Americano\",\"price\":150.00},\n",
    "        \"capuccino\":{\"name\":\"Capuccino\",\"price\":170.00},\n",
    "    }\n",
    "    food_tray = []\n",
    "    command = \"N\"\n",
    "    total = 0\n",
    "    while(True):\n",
    "        command = input(\"Options: N-New customer, Q-Quit \")\n",
    "        if(command.upper()==\"Q\"):\n",
    "            break\n",
    "        else:\n",
    "            more = \"Y\"\n",
    "            while(more==\"Y\"):\n",
    "                \n",
    "                valid_entry = False\n",
    "                while (not valid_entry):\n",
    "                    code = input(\"Enter Product Code: \")\n",
    "                    if code in products:\n",
    "                        valid_entry = True\n",
    "                    else:\n",
    "                        print(\"Invalid product code. Try again.\")\n",
    "            \n",
    "                qty = int(input(\"Enter Quantity: \"))\n",
    "                print(code + \": \"+str(qty))\n",
    "                \n",
    "                subtotal = get_product(code)[\"price\"]*qty\n",
    "                total += subtotal\n",
    "                ordered_item = dict([\n",
    "                    ('code', code),\n",
    "                    ('qty', qty),\n",
    "                    ('subtotal', subtotal)\n",
    "                ])\n",
    "                \n",
    "                add_to_tray(food_tray, ordered_item)\n",
    "\n",
    "                more = input(\"Add more items? (Y/N): \").upper()\n",
    "                \n",
    "        print(\"~\"*50)\n",
    "        generate_receipt(food_tray)\n",
    "        print(\"{:>44}{}\".format(\"Total:\",total))\n",
    "        print(\"~\"*50)\n",
    "\n",
    "        food_tray = []\n",
    "        total = 0\n",
    "        \n",
    "    print(\"Exiting CoffeePython POS Terminal. Have a great day.\")"
   ]
  },
  {
   "cell_type": "code",
   "execution_count": 45,
   "metadata": {},
   "outputs": [
    {
     "name": "stdout",
     "output_type": "stream",
     "text": [
      "Options: N-New customer, Q-Quit n\n",
      "Enter Product Code: espresso\n",
      "Enter Quantity: 2\n",
      "espresso: 2\n",
      "Add more items? (Y/N): y\n",
      "Enter Product Code: capucc\n",
      "Invalid product code. Try again.\n",
      "Enter Product Code: capuccino\n",
      "Enter Quantity: 5\n",
      "capuccino: 5\n",
      "Add more items? (Y/N): y\n",
      "Enter Product Code: americano\n",
      "Enter Quantity: 2\n",
      "americano: 2\n",
      "Add more items? (Y/N): n\n",
      "~~~~~~~~~~~~~~~~~~~~~~~~~~~~~~~~~~~~~~~~~~~~~~~~~~\n",
      "             CoffeePython Receipt             \n",
      "Product       |     Quantity   |      Subtotal\n",
      "Espresso                2              280.0\n",
      "Capuccino               5              850.0\n",
      "Americano               2              300.0\n",
      "                                      Total:1430.0\n",
      "~~~~~~~~~~~~~~~~~~~~~~~~~~~~~~~~~~~~~~~~~~~~~~~~~~\n",
      "Options: N-New customer, Q-Quit n\n",
      "Enter Product Code: espresso\n",
      "Enter Quantity: 2\n",
      "espresso: 2\n",
      "Add more items? (Y/N): y\n",
      "Enter Product Code: capuccino\n",
      "Enter Quantity: 2\n",
      "capuccino: 2\n",
      "Add more items? (Y/N): n\n",
      "~~~~~~~~~~~~~~~~~~~~~~~~~~~~~~~~~~~~~~~~~~~~~~~~~~\n",
      "             CoffeePython Receipt             \n",
      "Product       |     Quantity   |      Subtotal\n",
      "Espresso                2              280.0\n",
      "Capuccino               2              340.0\n",
      "                                      Total:620.0\n",
      "~~~~~~~~~~~~~~~~~~~~~~~~~~~~~~~~~~~~~~~~~~~~~~~~~~\n",
      "Options: N-New customer, Q-Quit q\n",
      "Exiting CoffeePython POS Terminal. Have a great day.\n"
     ]
    }
   ],
   "source": [
    "main()"
   ]
  }
 ],
 "metadata": {
  "kernelspec": {
   "display_name": "Python 3",
   "language": "python",
   "name": "python3"
  },
  "language_info": {
   "codemirror_mode": {
    "name": "ipython",
    "version": 3
   },
   "file_extension": ".py",
   "mimetype": "text/x-python",
   "name": "python",
   "nbconvert_exporter": "python",
   "pygments_lexer": "ipython3",
   "version": "3.7.3"
  }
 },
 "nbformat": 4,
 "nbformat_minor": 2
}
