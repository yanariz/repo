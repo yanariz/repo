{
 "cells": [
  {
   "cell_type": "markdown",
   "metadata": {},
   "source": [
    "# ITMGT 25.03 EE\n",
    "### Quiz 1\n",
    "\n",
    "This quiz will be credited to Class Participation. It is over 20 points.\n",
    "\n",
    "Instructions:\n",
    "1. Answer the questions below in the code box below the question. Follow the question carefully to avoid unnecessary deductions. If the question asks for a function, provide a function; if it asks for your function to return, then return, not print.\n",
    "2. You are allowed to submit this quiz in groups of 4 (maximum). Indicate your names in the given cell below this instruction cell. You are allowed to answer the quiz with fewer people (or even individually), but this is not recommended for difficulty reasons.\n",
    "3. Elect a group leader. This group leader will upload the group's notebook file to their GitHub repository, then they will send a link to their repository to joben.ilagan@gmail.com at 11:15 AM **at the latest** to accommodate for difficulties in sending the file. The file name should be: **GroupLeaderLastName_Quiz_1.ipynb**. Files sent from 11:16 AM to 12:15 PM will have final scores slashed in half, and files sent from 12:16 PM onwards will not be checked.\n",
    "4. This test is open notes and open internet. However, we may check code against internet sources.\n"
   ]
  },
  {
   "cell_type": "markdown",
   "metadata": {},
   "source": [
    "### Names:\n",
    "\n",
    "Jimenez, Gianina\n",
    "\n",
    "Querido, Maggu\n",
    "\n",
    "Tan, Yana"
   ]
  },
  {
   "cell_type": "markdown",
   "metadata": {},
   "source": [
    "# 1a.\n",
    "### 3 points\n",
    "\n",
    "### Context\n",
    "\n",
    "The Caesar cipher is a very basic method of encrypting text. This is how to encrypt a message using the Caesar cipher:\n",
    "1. First, pick a message. \n",
    "2. Second, pick a number. \n",
    "3. Shift the alphabet right by the number that you chose.\n",
    "4. Replace each letter in the message with the new letter based on the shifted alphabet.\n",
    "\n",
    "For example, to encrypt \"ABC\" with the number 3, shift each letter right by 3. In this case, \"ABC\" becomes \"DEF\" because D comes 3 letters after A, E comes 3 letters after B, and F comes 3 letters after C. Letters near the end of the alphabet simply wrap around: \"WXYZ\" encrypted with the number 2 would yield the encrypted message \"YZAB\".\n",
    "\n",
    "\n",
    "### Required\n",
    "Write a function that takes a message (string) and a number (integer) as parameters and **returns** the encrypted message (string) based on the Caesar cipher. The message is of a variable length: even if it is 100 or 1000 characters long, it should still work.\n",
    "\n",
    "e.g. \n",
    "\n",
    "encrypt(\"MEAMORE\", 0) -> \"MEAMORE\"\n",
    "\n",
    "encrypt(\"MEAMORE\", 2) -> \"OGCOQTG\"\n",
    "\n",
    "### Constraints\n",
    "For simplicity, assume:\n",
    "1. There are no spaces in any of the strings.\n",
    "2. The numbers are always positive integers.\n",
    "3. All strings will only consist of capital letters."
   ]
  },
  {
   "cell_type": "code",
   "execution_count": 43,
   "metadata": {},
   "outputs": [
    {
     "name": "stdout",
     "output_type": "stream",
     "text": [
      "BCDE"
     ]
    }
   ],
   "source": [
    "def encrypt(message,number):\n",
    "    message_list = list(message)\n",
    "    \n",
    "    letter_list = [\"A\", \"B\", \"C\", \"D\", \"E\", \"F\", \"G\", \"H\", \"I\", \"J\", \"K\", \"L\", \"M\", \"N\", \"O\", \"P\", \"Q\", \"R\", \"S\", \"T\", \"U\", \"V\", \"W\", \"X\", \"Y\", \"Z\"]\n",
    "    \n",
    "    for i in message_list:\n",
    "        number_of_letter = letter_list.index(i)\n",
    "        new_number = number_of_letter + number\n",
    "        \n",
    "        if (new_number>25):                       #if a letter exceeds z\n",
    "            new_number = (new_number-25)-1\n",
    "            new_letter = letter_list[new_number]\n",
    "            print(new_letter,end=\"\")\n",
    "        else:\n",
    "            new_letter = letter_list[new_number]\n",
    "            print(new_letter,end=\"\")\n",
    "    \n",
    "encrypt(\"WXYZ\",5)"
   ]
  },
  {
   "cell_type": "markdown",
   "metadata": {},
   "source": [
    "# 1b.\n",
    "### 2 points\n",
    "\n",
    "### Required\n",
    "Based on the way the Caesar cipher works, write a function that takes an encrypted message (string) and a number (integer) as parameters and **returns** the decrypted message (string). The message is of a variable length: even if it is 100 or 1000 characters long, it should still work.\n",
    "\n",
    "e.g.\n",
    "\n",
    "decrypt(\"OGCOQTG\", 2) -> \"MEAMORE\"\n",
    "\n",
    "### Constraints\n",
    "For simplicity, assume:\n",
    "1. There are no spaces in any of the strings.\n",
    "2. The numbers are always positive integers.\n",
    "3. All strings will only consist of capital letters.\n",
    "4. The number will not exceed 26."
   ]
  },
  {
   "cell_type": "code",
   "execution_count": 42,
   "metadata": {},
   "outputs": [
    {
     "name": "stdout",
     "output_type": "stream",
     "text": [
      "WXYZ"
     ]
    }
   ],
   "source": [
    "def decrypt (message_dec, number_dec):      #_dec is for the variables in decrypt()\n",
    "    \n",
    "    message_list_dec = list(message_dec)\n",
    "    \n",
    "    letter_list = [\"A\", \"B\", \"C\", \"D\", \"E\", \"F\", \"G\", \"H\", \"I\", \"J\", \"K\", \"L\", \"M\", \"N\", \"O\", \"P\", \"Q\", \"R\", \"S\", \"T\", \"U\", \"V\", \"W\", \"X\", \"Y\", \"Z\"]\n",
    "    \n",
    "    for i in message_list_dec:\n",
    "        number_of_letter_dec = letter_list.index(i)\n",
    "        new_number_dec = number_of_letter_dec - number_dec\n",
    "        \n",
    "        if(new_number_dec < 0):\n",
    "            new_number_dec = 25+(new_number_dec)+1\n",
    "            new_letter_dec = letter_list[new_number_dec]\n",
    "            print (new_letter_dec,end=\"\")\n",
    "        else:\n",
    "            new_letter_dec = letter_list[new_number_dec]\n",
    "            print(new_letter_dec,end=\"\")\n",
    "            \n",
    "decrypt(\"ABCD\",4)"
   ]
  },
  {
   "cell_type": "markdown",
   "metadata": {},
   "source": [
    "# 2\n",
    "\n",
    "### 5 points\n",
    "\n",
    "### Context\n",
    "\n",
    "The Caesar cipher is very easy to break. To remedy this, the Vigenère cipher was created as an extension to the Caesar cipher. This is how to encrypt a message based on the Vigenère cipher:\n",
    "1. Choose a message.\n",
    "2. Instead of choosing a number, choose a **keyword**. \n",
    "3. Repeat the keyword until the number of characters in the keyword matches the number of characters in the message.\n",
    "4. Shift each letter in the message right by the number value of the corresponding letter in the keyword.\n",
    "\n",
    "For example, to encrypt \"MEAMORE\" with the keyword \"UEDA\", first extend the keyword to match the length of the message. (In this case, the extended keyword would be \"UEDAUED\".) Now, shift each letter in \"MEAMORE\" by the number value of the corresponding letter in \"UEDAUED\" (for example, shift the first \"M\" 21 letters to the right because \"U\", the first letter in the keyword, is the 21st letter of the alphabet) to get \"GIDMIVH\" as the encrypted message.\n",
    "\n",
    "### Required\n",
    "Write a function that takes a message (string) and a keyword (string) as parameters and **returns** the Vigenère cipher encryption of the message. The message is of a variable length: even if it is 100 or 1000 characters long, it should still work.\n",
    "\n",
    "e.g.\n",
    "\n",
    "v_encrypt(\"ACCOUNTING\", \"SANEZ\") -> \"SCPSTFTVRF\"\n",
    "\n",
    "### Constraints\n",
    "For simplicity, assume:\n",
    "1. There are no spaces in any of the strings.\n",
    "2. The numbers are always positive integers.\n",
    "3. All strings will only consist of capital letters.\n",
    "4. The keyword will never exceed the length of the message."
   ]
  },
  {
   "cell_type": "code",
   "execution_count": 59,
   "metadata": {},
   "outputs": [
    {
     "name": "stdout",
     "output_type": "stream",
     "text": [
      "YSSJRKEQAIM"
     ]
    }
   ],
   "source": [
    "def v_encrypt(message, keyword):\n",
    "    \n",
    "    message_list = list(message)\n",
    "    message_number_list = []\n",
    "    keyword_list = list(keyword)\n",
    "    keyword_number_list = []\n",
    "    encrypted_number_list = []\n",
    "    letter_list = [\"A\", \"B\", \"C\", \"D\", \"E\", \"F\", \"G\", \"H\", \"I\", \"J\", \"K\", \"L\", \"M\", \"N\", \"O\", \"P\", \"Q\", \"R\", \"S\", \"T\", \"U\", \"V\", \"W\", \"X\", \"Y\", \"Z\"]\n",
    "\n",
    "    for i in range(len(message) - len(keyword)):\n",
    "        keyword_list.append(keyword_list[i])\n",
    "    \n",
    "    for i in message_list:\n",
    "        message_number = letter_list.index(i)\n",
    "        message_number_list.append(message_number)\n",
    "    \n",
    "    for i in keyword_list:\n",
    "        keyword_number = letter_list.index(i)\n",
    "        keyword_number_list.append(keyword_number)\n",
    "    \n",
    "    for i in range(len(message)):\n",
    "        encrypted_number = keyword_number_list[i] + message_number_list[i]\n",
    "        if (encrypted_number > 25):\n",
    "            encrypted_number = (encrypted_number - 26)\n",
    "        encrypted_number_list.append(encrypted_number)\n",
    "    \n",
    "    for i in encrypted_number_list:\n",
    "        encrypted_message = letter_list[i]\n",
    "        print(encrypted_message, end = \"\")\n",
    "    \n",
    "v_encrypt(\"JOBENILAGAN\", \"PERFECTQUIZ\")"
   ]
  },
  {
   "cell_type": "markdown",
   "metadata": {},
   "source": [
    "# 3\n",
    "### 5 points\n",
    "\n",
    "### Context\n",
    "Recall the concept of number system bases.\n",
    "\n",
    "\n",
    "You are most familiar with the decimal system, also known as base-10. Decimal has ten digits: \\[0, 1, 2, 3, 4, 5, 6, 7, 8, 9\\]. A decimal number such as \"425\" can be evaluated by separating its digits, multiplying each separated digit to its system's base raised to a certain exponent that is based on the digit's place in the number, then adding each resulting product back together. Illustrated:\n",
    "\n",
    "\n",
    "    # From decimal:\n",
    "    # 425 == (4 * 10**2) + (2 * 10**1) + (5 * 10**0) == 400 + 20 + 5 == 425\n",
    "\n",
    "### Required\n",
    "Write a function that takes three arguments: a number, its base, and the base to which it should be converted. The function should **return** the number in its new base (string). You need only consider bases 2 through 10: the function must be able to interpret a number from any base from 2 to 10 (including those in between), and it must be able to transform the resulting value into a number from any base from 2 to 10 (including those in between). All three arguments are integers. The number to be converted is variable in length.\n",
    "\n",
    "\n",
    "Format: \n",
    "\n",
    "    convert(number, old_base, new_base)\n",
    "\n",
    "e.g. \n",
    "\n",
    "    convert(101, 2, 10) -> 5 \n",
    "    convert(5, 10, 2) -> 101"
   ]
  },
  {
   "cell_type": "code",
   "execution_count": 44,
   "metadata": {},
   "outputs": [
    {
     "name": "stdout",
     "output_type": "stream",
     "text": [
      "1100100"
     ]
    }
   ],
   "source": [
    "def convert(number, old_base, new_base):\n",
    "    number_by_digit = list(str(number))\n",
    "    counter=1\n",
    "    new_num=0\n",
    "    \n",
    "    if(old_base!=10):                                    #convert to base 10\n",
    "        for i in number_by_digit: \n",
    "            digit_place = len(number_by_digit)-counter  \n",
    "            digitxbase=int(i)*(old_base**digit_place)\n",
    "            new_num+=digitxbase\n",
    "            counter+=1 \n",
    "        if(new_base==10):                               #if new base is 10, print\n",
    "            print(new_num)\n",
    "        else:                                           #if new base isn't 10, convert\n",
    "            exp=0                \n",
    "            num_divided_by_exp = new_num//(new_base**exp)\n",
    "            while num_divided_by_exp>0:\n",
    "                num_divided_by_exp = new_num//(new_base**exp)\n",
    "                exp+=1\n",
    "            exp=exp-2\n",
    "            \n",
    "            ans=[]\n",
    "            remainder=new_num\n",
    "            for x in range(exp,-1,-1):\n",
    "                ans.append(remainder//(new_base**x))\n",
    "                remainder=remainder%(new_base**x) \n",
    "            for y in range(len(ans)):\n",
    "                print(ans[y],end=\"\")\n",
    "    else:                                               #if old base is 10\n",
    "        exp=0                \n",
    "        num_divided_by_exp = number//(new_base**exp)\n",
    "        while num_divided_by_exp>0:\n",
    "            num_divided_by_exp = number//(new_base**exp)\n",
    "            exp+=1\n",
    "        exp=exp-2\n",
    "            \n",
    "        ans=[]\n",
    "        remainder=number\n",
    "        for x in range(exp,-1,-1):\n",
    "            ans.append(remainder//(new_base**x))\n",
    "            remainder=remainder%(new_base**x) \n",
    "        for y in range(len(ans)):\n",
    "            print(ans[y],end=\"\")\n",
    "                \n",
    "          \n",
    "convert(100,10,2)"
   ]
  },
  {
   "cell_type": "markdown",
   "metadata": {},
   "source": [
    "# 4\n",
    "### 5 points\n",
    "### Context\n",
    "Recall the hexadecimal base system, or base-16. There are not enough Arabic numerals to support base-16, so the first few letters of the alphabet are used instead of numbers for higher values:\n",
    "   \n",
    "    A : 10\n",
    "    B : 11\n",
    "    C : 12\n",
    "    D : 13\n",
    "    E : 14\n",
    "    F : 15\n",
    "    \n",
    "Conversion to and from the hexadecimal system relies on the same principle and process as lower bases. For instance: converting the hexadecimal number \"1A9\" to decimal:\n",
    "\n",
    "    # From hexadecimal:\n",
    "    # 1A9 == (1 * 16**2) + (A * 16**1) + (9 * 16**0) == 425\n",
    "    # 1A9 == (1 * 16**2) + (10 * 16**1) + (9 * 16**0) == 425\n",
    "    \n",
    "### Required\n",
    "Write a function that takes a single argument, a number in hexadecimal (string). The function should **return** the number in **decimal** (string). You only need to consider hexadecimal to decimal, not the other way around.\n",
    "\n",
    "e.g. \n",
    "\n",
    "    hex_to_dec_convert(\"FF\") -> \"255\"\n",
    "    \n",
    "### Constraints\n",
    "1. Do not use the int(x, 16) function. You may still use int() to convert strings to integers.\n",
    "2. For simplicity, input integer strings will always represent positive integers."
   ]
  },
  {
   "cell_type": "code",
   "execution_count": 63,
   "metadata": {},
   "outputs": [
    {
     "name": "stdout",
     "output_type": "stream",
     "text": [
      "425\n"
     ]
    }
   ],
   "source": [
    "hex_to_dec = {'A':10, 'B':11, 'C':12, 'D':13, 'E':14, 'F':15}\n",
    "\n",
    "def hex_to_dec_convert(string):\n",
    "    exponent = len(string)-1\n",
    "    answer = 0\n",
    "    string_list = list(string)\n",
    "    for i in range(len(string)):\n",
    "        if string_list[i] in hex_to_dec:\n",
    "            string_list[i] = hex_to_dec[string_list[i]]\n",
    "        answer += int(string_list[i])*(16**exponent)\n",
    "        exponent -= 1\n",
    "    return answer\n",
    "\n",
    "print(hex_to_dec_convert('1A9'))"
   ]
  }
 ],
 "metadata": {
  "kernelspec": {
   "display_name": "Python 3",
   "language": "python",
   "name": "python3"
  },
  "language_info": {
   "codemirror_mode": {
    "name": "ipython",
    "version": 3
   },
   "file_extension": ".py",
   "mimetype": "text/x-python",
   "name": "python",
   "nbconvert_exporter": "python",
   "pygments_lexer": "ipython3",
   "version": "3.7.3"
  }
 },
 "nbformat": 4,
 "nbformat_minor": 2
}
