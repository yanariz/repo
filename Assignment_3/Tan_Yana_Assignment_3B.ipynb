{
 "cells": [
  {
   "cell_type": "markdown",
   "metadata": {},
   "source": [
    "# ITMGT 25.03 EE\n",
    "# Assignment 3B\n",
    "\n",
    "This is a data-cleaning assignment and is the second of two parts. This notebook is uploaded to our Github repository along with a csv of fake, dirty data called **recweekdata.csv**.\n",
    "\n",
    "In addition, you have a new file called **studentprofiles.csv** which has first and last names plus the genders of the students.\n",
    "\n",
    "The output of this assignment is to convert recweekdata.csv into processable data for statistics. Submit the following files through GitHub:\n",
    "1. A cleaned recweekdata.csv called **cleanrecweekdata3b.csv** **(5 points)**\n",
    "2. This notebook, containing the code (properly commented) that you used to clean the data **(5 points)**\n",
    "3. An html file of summary statistics from each column called **stats3b.html**. The requirements for the summary statistics are described below. **(10 points)**\n",
    "\n",
    "The outputs are similar to that of Assignment 3A, except that you will now use Pandas instead of Python lists.\n",
    "\n",
    "This entire assignment (3B) is worth 20 points.\n",
    "\n",
    "Upload your output files to your Github repositories. Make sure to send an email to **joben.ilagan@gmail.com** once you're done.\n",
    "\n",
    "This assignment is due on **Monday, July 9, 2019** at 12:00NN.\n",
    "\n",
    "Note: I understand you all need to review for LT 2. Think of this Assignment as practice. It's not meant to take you as long as 3A.\n",
    "\n",
    "#### Bonus Points:\n",
    "* +2 if submitted over (or before) the weekend (July 13-14)\n",
    "* +2 if CSS and div tags are used (but please don't spend too much time on this because you still need to review for the Long Test)"
   ]
  },
  {
   "cell_type": "code",
   "execution_count": 172,
   "metadata": {},
   "outputs": [],
   "source": [
    "import pandas as pd\n",
    "\n",
    "df_rw = pd.read_csv(\"recweekdata.csv\")\n",
    "df_sp = pd.read_csv(\"studentprofiles.csv\")\n",
    "\n",
    "data = pd.merge(df_rw, df_sp)\n"
   ]
  },
  {
   "cell_type": "code",
   "execution_count": 173,
   "metadata": {},
   "outputs": [],
   "source": [
    "import re\n",
    "\n",
    "# clean birthyear\n",
    "# two digit birth months should be placed first to avoid the data being registered as single digits\n",
    "data.loc[:,\"birthmonth\"]=data.loc[:,\"birthmonth\"].str.replace(r\"10|Oct$\",\"October\",regex=True)\n",
    "data.loc[:,\"birthmonth\"]=data.loc[:,\"birthmonth\"].str.replace(r\"11|Nov$\", \"November\",regex=True)\n",
    "data.loc[:,\"birthmonth\"]=data.loc[:,\"birthmonth\"].str.replace(r\"12|Dec$\",\"December\",regex=True)\n",
    "data.loc[:,\"birthmonth\"]=data.loc[:,\"birthmonth\"].str.replace(r\"1|Jan$\",\"January\",regex=True)\n",
    "data.loc[:,\"birthmonth\"]=data.loc[:,\"birthmonth\"].str.replace(r\"2|Feb$\",\"February\",regex=True)\n",
    "data.loc[:,\"birthmonth\"]=data.loc[:,\"birthmonth\"].str.replace(r\"3|Mar$\",\"March\",regex=True)\n",
    "data.loc[:,\"birthmonth\"]=data.loc[:,\"birthmonth\"].str.replace(r\"4|Apr$\",\"April\",regex=True)\n",
    "data.loc[:,\"birthmonth\"]=data.loc[:,\"birthmonth\"].str.replace(r\"5\",\"May\",regex=True)\n",
    "data.loc[:,\"birthmonth\"]=data.loc[:,\"birthmonth\"].str.replace(r\"6|Jun$\",\"June\",regex=True)\n",
    "data.loc[:,\"birthmonth\"]=data.loc[:,\"birthmonth\"].str.replace(r\"7|Jul$\",\"July\",regex=True)\n",
    "data.loc[:,\"birthmonth\"]=data.loc[:,\"birthmonth\"].str.replace(r\"8|Aug$\",\"August\",regex=True)\n",
    "data.loc[:,\"birthmonth\"]=data.loc[:,\"birthmonth\"].str.replace(r\"9|Sep$\",\"September\",regex=True)\n",
    "\n",
    "# clean birthyear\n",
    "data.loc[:,\"birthyear\"] = data.loc[:,\"birthyear\"].apply(lambda x: re.sub(r\"^(9[7-9])\",r\"19\\1\", str(x)))\n",
    "\n",
    "# clean course\n",
    "data.loc[:,\"course\"]=data.loc[:,\"course\"].str.replace(r\"^Communications Technology|BS CTM|CTM\", \"BS Communications Technology Management\",regex=True)\n",
    "data.loc[:,\"course\"]=data.loc[:,\"course\"].str.replace(r\"^Information Technology Entrepreneurship|BS ITE|ITE\", \"BS IT Entrepreneurship\",regex=True)\n",
    "data.loc[:,\"course\"]=data.loc[:,\"course\"].str.replace(r\"^Management Engineering|BS ME|ME\", \"BS Management Engineering\",regex=True)\n",
    "data.loc[:,\"course\"]=data.loc[:,\"course\"].str.replace(r\"^Management|BS MGT|MGT\", \"BS Management\",regex=True)\n",
    "data.loc[:,\"course\"]=data.loc[:,\"course\"].str.replace(r\"^Legal Management|BS LM|LM\", \"BS Legal Management\",regex=True)\n",
    "\n",
    "# clean phonenumber\n",
    "data.loc[:,\"phonenumber\"]=data.loc[:,\"phonenumber\"].str.replace(r\"^9\",\"+63 9\",regex=True)\n",
    "\n",
    "# include carrier\n",
    "carrier = {\"+63 917\":\"Globe\",\"+63 918\":\"Smart\", \"+63 927\":\"Globe\"}\n",
    "data[\"carrier\"] = data.loc[:,\"phonenumber\"].str[0:7].apply(lambda x: carrier[x])\n",
    "\n",
    "# convert to cleanrecweekdata3b.csv\n",
    "data.to_csv(\"cleanrecweekdata3b.csv\", index=False)"
   ]
  },
  {
   "cell_type": "markdown",
   "metadata": {},
   "source": [
    "# Required Summary Statistics\n",
    "\n",
    "#### These were the questions from 3A:\n",
    "\n",
    "1. How many people were born in each month?\n",
    "2. How many people were born on each day?\n",
    "3. How many people were born in each year?\n",
    "4. How many people come from each course?\n",
    "5. How many people have numbers from Globe (0917 or 0927) and Smart (0918)? *Note: it's up to you how to format this output*\n",
    "\n",
    "#### Additional Questions:\n",
    "* How many Globe subscribers are: Male? Female?\n",
    "* How many Smart subscribers are: Male? Female?\n",
    "\n",
    "Answer these questions in an html file called **stats3b.html**. The format of the html is as follows (in template form, so you can use this as format string in your program, though feel free to modify with variable names if you find it easier to do so):\n",
    "\n",
    "\n",
    "```\n",
    "<html>\n",
    "    <body>\n",
    "         <h2>Summary Statistics</h2>\n",
    "         <table>\n",
    "             <tr><th>Stat</th><th>Value</th></tr>\n",
    "             <tr><td>People born in each month</td><td>{}</td></tr>\n",
    "             <tr><td>People born on each day</td><td>{}</td></tr>\n",
    "             <tr><td>People born in each year</td><td>{}</td></tr>\n",
    "             <tr><td>People coming from each course</td><td>{}</td></tr>\n",
    "             <tr><td>People having numbers from Globe and Smart</td><td>{}</td></tr>\n",
    "             <tr><td>Male Globe subscribers:</td><td>{}</td></tr>\n",
    "             <tr><td>Female Globe subscribers:</td><td>{}</td></tr>\n",
    "             <tr><td>Male Smart subscribers:</td><td>{}</td></tr>\n",
    "             <tr><td>Female Smart subscribers:</td><td>{}</td></tr>\n",
    "         </table>\n",
    "    </body>\n",
    "</html>\n",
    "```\n"
   ]
  },
  {
   "cell_type": "code",
   "execution_count": 324,
   "metadata": {},
   "outputs": [
    {
     "data": {
      "text/plain": [
       "{'January': 270,\n",
       " 'February': 232,\n",
       " 'March': 246,\n",
       " 'April': 267,\n",
       " 'May': 273,\n",
       " 'June': 259,\n",
       " 'July': 249,\n",
       " 'August': 241,\n",
       " 'September': 232,\n",
       " 'October': 178,\n",
       " 'November': 277,\n",
       " 'December': 276}"
      ]
     },
     "execution_count": 324,
     "metadata": {},
     "output_type": "execute_result"
    }
   ],
   "source": [
    "# Question: How many people were born in each month?\n",
    "birthmonth_counter = data.loc[:,[\"firstname\",\"birthmonth\"]].groupby([\"birthmonth\"])[\"firstname\"].count()\n",
    "\n",
    "bmonths_count =  {}\n",
    "\n",
    "bmonths_count[\"January\"] = month_counter[\"January\"]\n",
    "bmonths_count[\"February\"] = month_counter[\"February\"]\n",
    "bmonths_count[\"March\"] = month_counter[\"March\"]\n",
    "bmonths_count[\"April\"] = month_counter[\"April\"]\n",
    "bmonths_count[\"May\"] = month_counter[\"May\"]\n",
    "bmonths_count[\"June\"] = month_counter[\"June\"]\n",
    "bmonths_count[\"July\"] = month_counter[\"July\"]\n",
    "bmonths_count[\"August\"] = month_counter[\"August\"]\n",
    "bmonths_count[\"September\"] = month_counter[\"September\"]\n",
    "bmonths_count[\"October\"] = month_counter[\"October\"]\n",
    "bmonths_count[\"November\"] = month_counter[\"November\"]\n",
    "bmonths_count[\"December\"] = month_counter[\"December\"]\n",
    "\n",
    "bmonths_count"
   ]
  },
  {
   "cell_type": "code",
   "execution_count": 287,
   "metadata": {},
   "outputs": [
    {
     "data": {
      "text/plain": [
       "{1: 112,\n",
       " 2: 106,\n",
       " 3: 90,\n",
       " 4: 110,\n",
       " 5: 100,\n",
       " 6: 99,\n",
       " 7: 88,\n",
       " 8: 111,\n",
       " 9: 98,\n",
       " 10: 111,\n",
       " 11: 105,\n",
       " 12: 98,\n",
       " 13: 119,\n",
       " 14: 102,\n",
       " 15: 121,\n",
       " 16: 115,\n",
       " 17: 116,\n",
       " 18: 107,\n",
       " 19: 113,\n",
       " 20: 91,\n",
       " 21: 123,\n",
       " 22: 103,\n",
       " 23: 116,\n",
       " 24: 108,\n",
       " 25: 116,\n",
       " 26: 116,\n",
       " 27: 102,\n",
       " 28: 104}"
      ]
     },
     "execution_count": 287,
     "metadata": {},
     "output_type": "execute_result"
    }
   ],
   "source": [
    "# Question: How many people were born on each day?\n",
    "birthdays_counter = data.loc[:,[\"firstname\",\"birthday\"]].groupby([\"birthday\"])[\"firstname\"].count()\n",
    "\n",
    "bday_count = {}\n",
    "\n",
    "bday_list= set(data.loc[:,\"birthday\"])\n",
    "\n",
    "#initialize each birthday to zero\n",
    "for i in bday_list:\n",
    "    bday_count[i]=0\n",
    "\n",
    "for i in bday_list:\n",
    "    bday_count[i]= birthdays_counter[i]\n",
    "    \n",
    "bday_count"
   ]
  },
  {
   "cell_type": "code",
   "execution_count": 325,
   "metadata": {},
   "outputs": [
    {
     "data": {
      "text/plain": [
       "{'1997': 756, '1998': 746, '1999': 756, '2000': 380, '2001': 362}"
      ]
     },
     "execution_count": 325,
     "metadata": {},
     "output_type": "execute_result"
    }
   ],
   "source": [
    "# Question: How many people were born in each year?\n",
    "birthyear_counter = data.loc[:,[\"firstname\",\"birthyear\"]].groupby([\"birthyear\"])[\"firstname\"].count()\n",
    "\n",
    "byear_count =  {}\n",
    "\n",
    "byear_count[\"1997\"] = birthyear_counter[\"1997\"]\n",
    "byear_count[\"1998\"] = birthyear_counter[\"1998\"]\n",
    "byear_count[\"1999\"] = birthyear_counter[\"1999\"]\n",
    "byear_count[\"2000\"] = birthyear_counter[\"2000\"]\n",
    "byear_count[\"2001\"] = birthyear_counter[\"2001\"]\n",
    "\n",
    "byear_count"
   ]
  },
  {
   "cell_type": "code",
   "execution_count": 326,
   "metadata": {},
   "outputs": [
    {
     "data": {
      "text/plain": [
       "{'BS Communications Technology Management': 589,\n",
       " 'BS IT Entrepreneurship': 590,\n",
       " 'BS Legal Management': 585,\n",
       " 'BS Management': 629,\n",
       " 'BS Management Engineering': 607}"
      ]
     },
     "execution_count": 326,
     "metadata": {},
     "output_type": "execute_result"
    }
   ],
   "source": [
    "# Question: How many people come from each course?\n",
    "course_counter = data.loc[:,[\"firstname\",\"course\"]].groupby([\"course\"])[\"firstname\"].count()\n",
    "\n",
    "course_count =  {}\n",
    "\n",
    "course_count[\"BS Communications Technology Management\"] = course_counter[\"BS Communications Technology Management\"]\n",
    "course_count[\"BS IT Entrepreneurship\"] = course_counter[\"BS IT Entrepreneurship\"]\n",
    "course_count[\"BS Legal Management\"] = course_counter[\"BS Legal Management\"]\n",
    "course_count[\"BS Management\"] = course_counter[\"BS Management\"]\n",
    "course_count[\"BS Management Engineering\"] = course_counter[\"BS Management Engineering\"]\n",
    "\n",
    "course_count"
   ]
  },
  {
   "cell_type": "code",
   "execution_count": 327,
   "metadata": {},
   "outputs": [
    {
     "data": {
      "text/plain": [
       "{'Globe': 2045, 'Smart': 955}"
      ]
     },
     "execution_count": 327,
     "metadata": {},
     "output_type": "execute_result"
    }
   ],
   "source": [
    "# Question: How many people have numbers from Globe (0917 or 0927) and Smart (0918)?\n",
    "carrier_counter = data.loc[:,[\"firstname\",\"carrier\"]].groupby([\"carrier\"])[\"firstname\"].count()\n",
    "\n",
    "carrier_count =  {}\n",
    "\n",
    "carrier_count[\"Globe\"] = carrier_counter[\"Globe\"]\n",
    "carrier_count[\"Smart\"] = carrier_counter[\"Smart\"]\n",
    "\n",
    "carrier_count"
   ]
  },
  {
   "cell_type": "code",
   "execution_count": 328,
   "metadata": {},
   "outputs": [
    {
     "data": {
      "text/plain": [
       "{'Male Globe Subscriber': 1061,\n",
       " 'Female Globe Subscriber': 984,\n",
       " 'Male Smart Subscriber': 461,\n",
       " 'Female Smart Subscriber': 494}"
      ]
     },
     "execution_count": 328,
     "metadata": {},
     "output_type": "execute_result"
    }
   ],
   "source": [
    "# Question: How many Globe subscribers are: Male? Female?\n",
    "# Question: How many Smart subscribers are: Male? Female?\n",
    "\n",
    "gender_sub = data.loc[:,[\"firstname\", \"gender\", \"carrier\"]].groupby([\"gender\",\"carrier\"])[\"firstname\"].count()\n",
    "\n",
    "M_G = gender_sub[(\"Male\",\"Globe\")]\n",
    "F_G = gender_sub[(\"Female\",\"Globe\")]\n",
    "M_S = gender_sub[(\"Male\",\"Smart\")]\n",
    "F_S = gender_sub[(\"Female\",\"Smart\")]\n",
    "\n",
    "gender_sub_count = {}\n",
    "\n",
    "gender_sub_count[\"Male Globe Subscriber\"] = M_G\n",
    "gender_sub_count[\"Female Globe Subscriber\"] = F_G\n",
    "gender_sub_count[\"Male Smart Subscriber\"] = M_S\n",
    "gender_sub_count[\"Female Smart Subscriber\"] = F_S\n",
    "\n",
    "gender_sub_count"
   ]
  },
  {
   "cell_type": "code",
   "execution_count": 411,
   "metadata": {},
   "outputs": [],
   "source": [
    "bmonth_html = \"\"\"\"\"\"\n",
    "for month in bmonths_count:\n",
    "    bmonth_html += str(month) + \": \" + str(bmonths_count[month]) + \"\"\"</p>\"\"\"\n",
    "\n",
    "bday_html = \"\"\"\"\"\"\n",
    "for day in bday_count:\n",
    "    bday_html += str(day) + \": \" + str(bday_count[day]) + \", \"\n",
    "    \n",
    "byear_html = \"\"\"\"\"\"\n",
    "for year in byear_count:\n",
    "    byear_html += str(year) + \": \" + str(byear_count[year]) + \"\"\"</p>\"\"\"\n",
    "    \n",
    "course_html = \"\"\"\"\"\"\n",
    "for course in course_count:\n",
    "    course_html += str(course) + \": \" + str(course_count[course]) + \"\"\"</p>\"\"\"\n",
    "\n",
    "carrier_html = \"\"\"\"\"\"\n",
    "for carrier in carrier_count:\n",
    "    carrier_html += str(carrier) + \": \" + str(carrier_count[carrier]) + \"\"\"</p>\"\"\"\n",
    "    \n",
    "sub_html = \"\"\"\"\"\"\n",
    "for sub in gender_sub_count:\n",
    "    sub_html += str(sub) + \": \" + str(gender_sub_count[sub]) + \"\"\"</p>\"\"\""
   ]
  },
  {
   "cell_type": "code",
   "execution_count": 410,
   "metadata": {},
   "outputs": [],
   "source": [
    "stats = \"\"\"\n",
    "\n",
    "<html>\n",
    "            <style>\n",
    "                table, th, td {{\n",
    "                  border: 1px solid black;\n",
    "                  font-family: andale mono;\n",
    "                }}\n",
    "                th, td {{\n",
    "                  padding: 10px;\n",
    "                  background-color: pink;\n",
    "                  text-align: center;    \n",
    "                }}\n",
    "                h2 {{\n",
    "                  background-color: powderblue;\n",
    "                  font-family: andale mono;\n",
    "                  font-size: 200%;\n",
    "                  text-align: center;\n",
    "                }}    \n",
    "            </style>\n",
    "\n",
    "    <body>\n",
    "         <h2><i>Summary Statistics</i></h2>\n",
    "         <table>\n",
    "                 <tr>\n",
    "                     <th>STATISTICS</th>\n",
    "                     <th>VALUES</th>\n",
    "                 </tr>\n",
    "             <div class=\"row\"><div class=\"col\"><tr><td>People born in each month</td><td>{bmonth_html}</td></tr></div></div>\n",
    "             \n",
    "             <div class=\"row\"><div class=\"col\"><tr><td>People born on each day</td><td>{bday_html}</td></tr></div></div>\n",
    "             \n",
    "             <div class=\"row\"><div class=\"col\"><tr><td>People born in each year</td><td>{byear_html}</td></tr></div></div>\n",
    "             \n",
    "             <div class=\"row\"><div class=\"col\"><tr><td>People coming from each course</td><td>{course_html}</td></tr></div></div>\n",
    "             \n",
    "             <div class=\"row\"><div class=\"col\"><tr><td>People having numbers from Globe and Smart</td><td>{carrier_html}</td></tr></div></div>\n",
    "             \n",
    "             <div class=\"row\"><div class=\"col\"><tr><td>Subscribers having numbers from Globe and Smart</td><td>{sub_html}</td></tr></div></div>\n",
    "             \n",
    "         </table>\n",
    "    </body>\n",
    "</html>\n",
    "\n",
    "\"\"\"\n",
    "\n",
    "with open(\"stats3b.html\",\"w+\") as stats_file:\n",
    "    stats_file.write(stats.format(bmonth_html=bmonth_html,bday_html=bday_html,byear_html=byear_html,course_html=course_html,carrier_html=carrier_html,sub_html=sub_html))\n",
    "    "
   ]
  }
 ],
 "metadata": {
  "kernelspec": {
   "display_name": "Python 3",
   "language": "python",
   "name": "python3"
  },
  "language_info": {
   "codemirror_mode": {
    "name": "ipython",
    "version": 3
   },
   "file_extension": ".py",
   "mimetype": "text/x-python",
   "name": "python",
   "nbconvert_exporter": "python",
   "pygments_lexer": "ipython3",
   "version": "3.7.3"
  }
 },
 "nbformat": 4,
 "nbformat_minor": 2
}
