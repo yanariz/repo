{
 "cells": [
  {
   "cell_type": "markdown",
   "metadata": {},
   "source": [
    "# ITMGT 25.03 EE\n",
    "# Assignment 3B\n",
    "\n",
    "This is a data-cleaning assignment and is the second of two parts. This notebook is uploaded to our Github repository along with a csv of fake, dirty data called **recweekdata.csv**.\n",
    "\n",
    "In addition, you have a new file called **studentprofiles.csv** which has first and last names plus the genders of the students.\n",
    "\n",
    "The output of this assignment is to convert recweekdata.csv into processable data for statistics. Submit the following files through GitHub:\n",
    "1. A cleaned recweekdata.csv called **cleanrecweekdata3b.csv** **(5 points)**\n",
    "2. This notebook, containing the code (properly commented) that you used to clean the data **(5 points)**\n",
    "3. An html file of summary statistics from each column called **stats3b.html**. The requirements for the summary statistics are described below. **(10 points)**\n",
    "\n",
    "The outputs are similar to that of Assignment 3A, except that you will now use Pandas instead of Python lists.\n",
    "\n",
    "This entire assignment (3B) is worth 20 points.\n",
    "\n",
    "Upload your output files to your Github repositories. Make sure to send an email to **joben.ilagan@gmail.com** once you're done.\n",
    "\n",
    "This assignment is due on **Monday, July 9, 2019** at 12:00NN.\n",
    "\n",
    "Note: I understand you all need to review for LT 2. Think of this Assignment as practice. It's not meant to take you as long as 3A.\n",
    "\n",
    "#### Bonus Points:\n",
    "* +2 if submitted over (or before) the weekend (July 13-14)\n",
    "* +2 if CSS and div tags are used (but please don't spend too much time on this because you still need to review for the Long Test)"
   ]
  },
  {
   "cell_type": "code",
   "execution_count": 2,
   "metadata": {},
   "outputs": [],
   "source": [
    "import pandas as pd\n",
    "\n",
    "df_rw = pd.read_csv(\"recweekdata.csv\")\n",
    "df_sp = pd.read_csv(\"studentprofiles.csv\")\n",
    "\n",
    "data = pd.merge(df_rw, df_sp)\n"
   ]
  },
  {
   "cell_type": "code",
   "execution_count": 133,
   "metadata": {},
   "outputs": [],
   "source": [
    "import re\n",
    "\n",
    "# clean birthyear\n",
    "# two digit birth months should be placed first to avoid the data being registered as single digits\n",
    "data.loc[:,\"birthmonth\"]=data.loc[:,\"birthmonth\"].str.replace(r\"10|Oct$\",\"October\",regex=True)\n",
    "data.loc[:,\"birthmonth\"]=data.loc[:,\"birthmonth\"].str.replace(r\"11|Nov$\", \"November\",regex=True)\n",
    "data.loc[:,\"birthmonth\"]=data.loc[:,\"birthmonth\"].str.replace(r\"12|Dec$\",\"December\",regex=True)\n",
    "data.loc[:,\"birthmonth\"]=data.loc[:,\"birthmonth\"].str.replace(r\"1|Jan$\",\"January\",regex=True)\n",
    "data.loc[:,\"birthmonth\"]=data.loc[:,\"birthmonth\"].str.replace(r\"2|Feb$\",\"February\",regex=True)\n",
    "data.loc[:,\"birthmonth\"]=data.loc[:,\"birthmonth\"].str.replace(r\"3|Mar$\",\"March\",regex=True)\n",
    "data.loc[:,\"birthmonth\"]=data.loc[:,\"birthmonth\"].str.replace(r\"4|Apr$\",\"April\",regex=True)\n",
    "data.loc[:,\"birthmonth\"]=data.loc[:,\"birthmonth\"].str.replace(r\"5\",\"May\",regex=True)\n",
    "data.loc[:,\"birthmonth\"]=data.loc[:,\"birthmonth\"].str.replace(r\"6|Jun$\",\"June\",regex=True)\n",
    "data.loc[:,\"birthmonth\"]=data.loc[:,\"birthmonth\"].str.replace(r\"7|Jul$\",\"July\",regex=True)\n",
    "data.loc[:,\"birthmonth\"]=data.loc[:,\"birthmonth\"].str.replace(r\"8|Aug$\",\"August\",regex=True)\n",
    "data.loc[:,\"birthmonth\"]=data.loc[:,\"birthmonth\"].str.replace(r\"9|Sep$\",\"September\",regex=True)\n",
    "\n",
    "# clean birthyear\n",
    "data.loc[:,\"birthyear\"] = data.loc[:,\"birthyear\"].apply(lambda x: re.sub(r\"^(9[7-9])\",r\"19\\1\", str(x)))\n",
    "\n",
    "# clean course\n",
    "data.loc[:,\"course\"]=data.loc[:,\"course\"].str.replace(r\"^Communications Technology|BS CTM|CTM\", \"BS Communications Technology Management\",regex=True)\n",
    "data.loc[:,\"course\"]=data.loc[:,\"course\"].str.replace(r\"^Information Technology Entrepreneurship|BS ITE|ITE\", \"BS IT Entrepreneurship\",regex=True)\n",
    "data.loc[:,\"course\"]=data.loc[:,\"course\"].str.replace(r\"^Management Engineering|BS ME|ME\", \"BS Management Engineering\",regex=True)\n",
    "data.loc[:,\"course\"]=data.loc[:,\"course\"].str.replace(r\"^Management|BS MGT|MGT\", \"BS Management\",regex=True)\n",
    "data.loc[:,\"course\"]=data.loc[:,\"course\"].str.replace(r\"^Legal Management|BS LM|LM\", \"BS Legal Management\",regex=True)\n",
    "\n",
    "# clean phonenumber\n",
    "data.loc[:,\"phonenumber\"]=data.loc[:,\"phonenumber\"].str.replace(r\"^9\",\"+63 9\",regex=True)\n",
    "\n",
    "# include carrier\n",
    "carrier = {\"+63 917\":\"Globe\",\"+63 918\":\"Smart\", \"+63 927\":\"Globe\"}\n",
    "data[\"carrier\"] = data.loc[:,\"phonenumber\"].str[0:7].apply(lambda x: carrier[x])\n",
    "\n",
    "# convert to cleanrecweekdata3b.csv\n",
    "data.to_csv(\"cleanrecweekdata3b.csv\", index=False)"
   ]
  },
  {
   "cell_type": "markdown",
   "metadata": {},
   "source": [
    "# Required Summary Statistics\n",
    "\n",
    "#### These were the questions from 3A:\n",
    "\n",
    "1. How many people were born in each month?\n",
    "2. How many people were born on each day?\n",
    "3. How many people were born in each year?\n",
    "4. How many people come from each course?\n",
    "5. How many people have numbers from Globe (0917 or 0927) and Smart (0918)? *Note: it's up to you how to format this output*\n",
    "\n",
    "#### Additional Questions:\n",
    "* How many Globe subscribers are: Male? Female?\n",
    "* How many Smart subscribers are: Male? Female?\n",
    "\n",
    "Answer these questions in an html file called **stats3b.html**. The format of the html is as follows (in template form, so you can use this as format string in your program, though feel free to modify with variable names if you find it easier to do so):\n",
    "\n",
    "\n",
    "```\n",
    "<html>\n",
    "    <body>\n",
    "         <h2>Summary Statistics</h2>\n",
    "         <table>\n",
    "             <tr><th>Stat</th><th>Value</th></tr>\n",
    "             <tr><td>People born in each month</td><td>{}</td></tr>\n",
    "             <tr><td>People born on each day</td><td>{}</td></tr>\n",
    "             <tr><td>People born in each year</td><td>{}</td></tr>\n",
    "             <tr><td>People coming from each course</td><td>{}</td></tr>\n",
    "             <tr><td>People having numbers from Globe and Smart</td><td>{}</td></tr>\n",
    "             <tr><td>Male Globe subscribers:</td><td>{}</td></tr>\n",
    "             <tr><td>Female Globe subscribers:</td><td>{}</td></tr>\n",
    "             <tr><td>Male Smart subscribers:</td><td>{}</td></tr>\n",
    "             <tr><td>Female Smart subscribers:</td><td>{}</td></tr>\n",
    "         </table>\n",
    "    </body>\n",
    "</html>\n",
    "```\n"
   ]
  },
  {
   "cell_type": "code",
   "execution_count": 4,
   "metadata": {},
   "outputs": [
    {
     "data": {
      "text/plain": [
       "birthmonth\n",
       "April        267\n",
       "August       241\n",
       "December     276\n",
       "February     232\n",
       "January      270\n",
       "July         249\n",
       "June         259\n",
       "March        246\n",
       "May          273\n",
       "November     277\n",
       "October      178\n",
       "September    232\n",
       "Name: firstname, dtype: int64"
      ]
     },
     "execution_count": 4,
     "metadata": {},
     "output_type": "execute_result"
    }
   ],
   "source": [
    "# Question: How many people were born in each month?\n",
    "data.loc[:,[\"firstname\",\"birthmonth\"]].groupby([\"birthmonth\"])[\"firstname\"].count()"
   ]
  },
  {
   "cell_type": "code",
   "execution_count": 5,
   "metadata": {},
   "outputs": [
    {
     "data": {
      "text/plain": [
       "birthday\n",
       "1     112\n",
       "2     106\n",
       "3      90\n",
       "4     110\n",
       "5     100\n",
       "6      99\n",
       "7      88\n",
       "8     111\n",
       "9      98\n",
       "10    111\n",
       "11    105\n",
       "12     98\n",
       "13    119\n",
       "14    102\n",
       "15    121\n",
       "16    115\n",
       "17    116\n",
       "18    107\n",
       "19    113\n",
       "20     91\n",
       "21    123\n",
       "22    103\n",
       "23    116\n",
       "24    108\n",
       "25    116\n",
       "26    116\n",
       "27    102\n",
       "28    104\n",
       "Name: firstname, dtype: int64"
      ]
     },
     "execution_count": 5,
     "metadata": {},
     "output_type": "execute_result"
    }
   ],
   "source": [
    "# Question: How many people were born on each day?\n",
    "data.loc[:,[\"firstname\",\"birthday\"]].groupby([\"birthday\"])[\"firstname\"].count()"
   ]
  },
  {
   "cell_type": "code",
   "execution_count": 6,
   "metadata": {},
   "outputs": [
    {
     "data": {
      "text/plain": [
       "birthyear\n",
       "1997    756\n",
       "1998    746\n",
       "1999    756\n",
       "2000    380\n",
       "2001    362\n",
       "Name: firstname, dtype: int64"
      ]
     },
     "execution_count": 6,
     "metadata": {},
     "output_type": "execute_result"
    }
   ],
   "source": [
    "# Question: How many people were born in each year?\n",
    "data.loc[:,[\"firstname\",\"birthyear\"]].groupby([\"birthyear\"])[\"firstname\"].count()"
   ]
  },
  {
   "cell_type": "code",
   "execution_count": 7,
   "metadata": {},
   "outputs": [
    {
     "data": {
      "text/plain": [
       "course\n",
       "BS Communications Technology Management    589\n",
       "BS IT Entrepreneurship                     590\n",
       "BS Legal Management                        585\n",
       "BS Management                              629\n",
       "BS Management Engineering                  607\n",
       "Name: firstname, dtype: int64"
      ]
     },
     "execution_count": 7,
     "metadata": {},
     "output_type": "execute_result"
    }
   ],
   "source": [
    "# Question: How many people come from each course?\n",
    "data.loc[:,[\"firstname\",\"course\"]].groupby([\"course\"])[\"firstname\"].count()"
   ]
  },
  {
   "cell_type": "code",
   "execution_count": 8,
   "metadata": {},
   "outputs": [
    {
     "data": {
      "text/plain": [
       "carrier\n",
       "Globe    2045\n",
       "Smart     955\n",
       "Name: firstname, dtype: int64"
      ]
     },
     "execution_count": 8,
     "metadata": {},
     "output_type": "execute_result"
    }
   ],
   "source": [
    "# Question: How many people have numbers from Globe (0917 or 0927) and Smart (0918)?\n",
    "data.loc[:,[\"firstname\",\"carrier\"]].groupby([\"carrier\"])[\"firstname\"].count()"
   ]
  },
  {
   "cell_type": "code",
   "execution_count": 19,
   "metadata": {},
   "outputs": [
    {
     "data": {
      "text/plain": [
       "gender  carrier\n",
       "Female  Globe       984\n",
       "        Smart       494\n",
       "Male    Globe      1061\n",
       "        Smart       461\n",
       "Name: firstname, dtype: int64"
      ]
     },
     "execution_count": 19,
     "metadata": {},
     "output_type": "execute_result"
    }
   ],
   "source": [
    "# Question: How many Globe subscribers are: Male? Female?\n",
    "# Question: How many Smart subscribers are: Male? Female?\n",
    "\n",
    "Gender_Carrier = data.loc[:,[\"firstname\", \"gender\", \"carrier\"]].groupby([\"gender\",\"carrier\"])[\"firstname\"].count()\n",
    "\n",
    "Gender_Carrier"
   ]
  },
  {
   "cell_type": "code",
   "execution_count": 25,
   "metadata": {},
   "outputs": [
    {
     "name": "stdout",
     "output_type": "stream",
     "text": [
      "1061\n",
      "984\n",
      "461\n",
      "494\n"
     ]
    }
   ],
   "source": [
    "print(Gender_Carrier[(\"Male\",\"Globe\")])\n",
    "print(Gender_Carrier[(\"Female\",\"Globe\")])\n",
    "print(Gender_Carrier[(\"Male\",\"Smart\")])\n",
    "print(Gender_Carrier[(\"Female\",\"Smart\")])"
   ]
  },
  {
   "cell_type": "code",
   "execution_count": 132,
   "metadata": {},
   "outputs": [],
   "source": [
    "stats = \"\"\"\n",
    "\n",
    "<html>\n",
    "            <style>\n",
    "                table, th, td {\n",
    "                  border: 1px solid black;\n",
    "                  font-family: andale mono;\n",
    "                }\n",
    "                th, td {\n",
    "                  padding: 10px;\n",
    "                  background-color: pink;\n",
    "                  text-align: center;    \n",
    "                }\n",
    "                h2 {\n",
    "                  background-color: powderblue;\n",
    "                  font-family: andale mono;\n",
    "                  font-size: 200%;\n",
    "                  text-align: center;\n",
    "                }\n",
    "                \n",
    "            </style>\n",
    "            \n",
    "    <body>\n",
    "         <h2><i>Summary Statistics</i></h2>\n",
    "         <table>\n",
    "                 <tr>\n",
    "                     <th>STATISTICS</th>\n",
    "                     <th>VALUES</th>\n",
    "                 </tr>\n",
    "             <div class=\"row\"><div class=\"col\"><tr><td>People born in each month</td><td></div></div>\n",
    "             \n",
    "             <div class=\"row\"><div class=\"col\">January: 270 </p> February: 232 </p> March: 246 </p>\n",
    "             April: 267 </p> May: 273 </p> June: 259 </p> July: 249 </p> August: 241 </p>\n",
    "             September: 232 </p> October: 178 </p> November: 277 </p> December: 276</td></tr></div></div>\n",
    "             \n",
    "             <div class=\"row\"><div class=\"col\"><tr><td>People born on each day</td><td>1: 112, 2: 106, 3: 90, 4: 110, 5: 100, 6: 99, 7: 88, 8:111,\n",
    "             9: 98, 10: 111, 11: 105, 12: 98, 13: 119, 14: 102, 15: 121, 16: 115, 17: 116, 18: 107, 19: 113, 20: 91,\n",
    "             21: 123, 22: 103, 23: 116, 24: 108, 25: 116, 26: 116, 27: 102, 28: 104, 29: 0, 30: 0, 31: 0</td></tr></div></div>\n",
    "             \n",
    "             <div class=\"row\"><div class=\"col\"><tr><td>People born in each year</td><td>1997: 756 </p> 1998: 746 </p> 1999: 756 </p> 2000: 380 </p> 2001: 362</td></tr></div></div>\n",
    "             \n",
    "             <div class=\"row\"><div class=\"col\"><tr><td>People coming from each course</td><td>BS Communications Technology Management: 589 </p> BS IT Entrepreneurship: 590 </p>\n",
    "             BS Legal Management: 585 </p> BS Management: 629 </p> BS Management Engineering: 607</td></tr></div></div>\n",
    "             \n",
    "             <div class=\"row\"><div class=\"col\"><tr><td>People having numbers from Globe and Smart</td><td>Globe: 2045 </p> Smart: 955</td></tr></div></div>\n",
    "             \n",
    "             <div class=\"row\"><div class=\"col\"><tr><td>Male Globe subscribers</td><td>1061</td></tr></div></div>\n",
    "             \n",
    "             <div class=\"row\"><div class=\"col\"><tr><td>Female Globe subscribers</td><td>984</td></tr></div></div>\n",
    "             \n",
    "             <div class=\"row\"><div class=\"col\"><tr><td>Male Smart subscribers</td><td>461</td></tr></div></div>\n",
    "             \n",
    "             <div class=\"row\"><div class=\"col\"><tr><td>Female Smart subscribers</td><td>494</td></tr></div></div>\n",
    "         </table>\n",
    "    </body>\n",
    "</html>\n",
    "\n",
    "\"\"\"\n",
    "\n",
    "with open(\"stats3b.html\",\"w+\") as stats_file:\n",
    "    stats_file.write(stats)"
   ]
  }
 ],
 "metadata": {
  "kernelspec": {
   "display_name": "Python 3",
   "language": "python",
   "name": "python3"
  },
  "language_info": {
   "codemirror_mode": {
    "name": "ipython",
    "version": 3
   },
   "file_extension": ".py",
   "mimetype": "text/x-python",
   "name": "python",
   "nbconvert_exporter": "python",
   "pygments_lexer": "ipython3",
   "version": "3.7.3"
  }
 },
 "nbformat": 4,
 "nbformat_minor": 2
}
